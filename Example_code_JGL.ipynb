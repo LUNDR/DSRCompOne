{
 "cells": [
  {
   "cell_type": "code",
   "execution_count": 104,
   "metadata": {},
   "outputs": [],
   "source": [
    "import pandas as pd\n",
    "import numpy as np\n",
    "%matplotlib inline\n",
    "import matplotlib as mpl\n",
    "import matplotlib.pyplot as plt\n",
    "import seaborn as sns\n",
    "import math\n",
    "from sklearn.feature_selection import SelectKBest\n",
    "from sklearn.feature_selection import chi2\n",
    "from sklearn.feature_selection import RFE\n",
    "from sklearn.linear_model import LinearRegression\n",
    "from sklearn.metrics import accuracy_score\n",
    "import sklearn.preprocessing \n",
    "import sklearn.linear_model\n",
    "import sklearn.model_selection\n",
    "import statsmodels.api as sm\n",
    "pd.set_option('display.max_rows', 500)\n",
    "pd.set_option('display.max_columns', 500)\n",
    "pd.set_option('display.width', 1000)\n",
    "#delete future ish. cahgne ignore to default if you want to revert \n",
    "import warnings\n",
    "warnings.filterwarnings(\"ignore\", category=FutureWarning)"
   ]
  },
  {
   "cell_type": "code",
   "execution_count": 21,
   "metadata": {},
   "outputs": [],
   "source": [
    "#loading data\n",
    "data_path = 'train.csv'\n",
    "df = pd.read_csv(data_path, index_col=0)\n",
    "\n",
    "#replace all na's with empty string in text columns, replace with 0 in data columns\n",
    "def na_fixer(df):\n",
    "    for column in df.columns:\n",
    "        if df.dtypes[column]==object:\n",
    "            df[column].fillna(\"\",inplace=True)\n",
    "        else: df[column].fillna(0,inplace=True)\n",
    "na_fixer(df)"
   ]
  },
  {
   "cell_type": "code",
   "execution_count": 6,
   "metadata": {},
   "outputs": [],
   "source": [
    "#returns stats if numerical, returns value counts if string \n",
    "def describer(df):\n",
    "    for column in df.columns:\n",
    "        print(column)\n",
    "        if df.dtypes[column] == object:\n",
    "            print (df[column].value_counts())\n",
    "        else: print(df[column].describe())\n",
    "        print('\\n')"
   ]
  },
  {
   "cell_type": "code",
   "execution_count": 22,
   "metadata": {},
   "outputs": [],
   "source": [
    "#uses feature encoding with SKLEARN to turn all object.type entries into numerical values. plots a heatmap of the correlation between the features and sale price \n",
    "def encoder(df):\n",
    "    result = df.copy()\n",
    "    encoders = {}\n",
    "    l_e = sklearn.preprocessing.LabelEncoder()\n",
    "    for column in result.columns:\n",
    "            if result.dtypes[column] == object:\n",
    "                encoders[column] = l_e.fit(result[column])\n",
    "                result[column] = encoders[column].fit_transform(result[column])\n",
    "    return result, encoders\n",
    "#encoding\n",
    "df_enc, _= encoder(df)\n",
    "df_sp = df_enc['SalePrice']"
   ]
  },
  {
   "cell_type": "code",
   "execution_count": null,
   "metadata": {},
   "outputs": [],
   "source": [
    "#heatmap plot\n",
    "plt.figure(figsize = (50,50))\n",
    "sns.heatmap(df_enc.corr(), square = True, annot=True, cmap=\"RdYlGn\")"
   ]
  },
  {
   "cell_type": "code",
   "execution_count": 126,
   "metadata": {},
   "outputs": [],
   "source": [
    "#splitting our encoded dataset into test data and training data\n",
    "X_train, X_test, y_train, y_test = sklearn.model_selection.train_test_split(df_enc[df_enc.columns.drop('SalePrice')], df_sp, train_size=0.8)"
   ]
  },
  {
   "cell_type": "code",
   "execution_count": 14,
   "metadata": {},
   "outputs": [],
   "source": [
    "#standard normal scaling for all encoded features \n",
    "scaler = sklearn.preprocessing.StandardScaler()\n",
    "X_train_sc = pd.DataFrame(scaler.fit_transform(X_train),columns=X_train.columns)\n",
    "X_test_sc = scaler.fit_transform(X_test)"
   ]
  },
  {
   "cell_type": "code",
   "execution_count": 75,
   "metadata": {},
   "outputs": [],
   "source": [
    "#using skl KBest to get initial inference around most important features. Note this needs nonnegative values. Can't use normally scaled values  \n",
    "selectbest = SelectKBest(score_func=chi2, k=15)\n",
    "fit = selectbest.fit(X_train,y_train)\n",
    "dfscores = pd.DataFrame(fit.scores_, columns=['Scores'])\n",
    "X_train_cols = pd.DataFrame(X_train.columns,  columns=['Feature'])\n",
    "feature_scores = pd.concat([dfscores,X_train_cols],axis=1)\n",
    "features_Kbest=list(feature_scores.sort_values(by = 'Scores',ascending=False).head(15)['Feature'])"
   ]
  },
  {
   "cell_type": "code",
   "execution_count": 59,
   "metadata": {},
   "outputs": [
    {
     "name": "stdout",
     "output_type": "stream",
     "text": [
      "[0.01578467 0.00954503 0.02920376 0.02961222 0.00043856 0.00378584\n",
      " 0.01578993 0.00686626 0.00017224 0.01422848 0.00288071 0.02270777\n",
      " 0.00809835 0.0006208  0.00636759 0.01461959 0.01757294 0.01478985\n",
      " 0.02775391 0.02413031 0.01321653 0.00103322 0.01730708 0.01935804\n",
      " 0.01435859 0.01699695 0.00798167 0.00720206 0.01049283 0.01198423\n",
      " 0.00556144 0.01670889 0.02034919 0.02431203 0.00825405 0.0066655\n",
      " 0.02902312 0.02728542 0.00138428 0.01588443 0.00373004 0.00557803\n",
      " 0.02749465 0.01802577 0.00125618 0.02802931 0.01420865 0.00486322\n",
      " 0.01094262 0.01012877 0.01730469 0.00193638 0.01196029 0.02342131\n",
      " 0.00409249 0.01062098 0.01216796 0.01170356 0.02191039 0.01591706\n",
      " 0.01400964 0.02823034 0.00400496 0.00325338 0.00444049 0.02124534\n",
      " 0.02171495 0.0100391  0.00156379 0.0058074  0.00042954 0.0001742\n",
      " 0.01186502 0.00305463 0.00168797 0.02966187 0.02400205 0.00888132\n",
      " 0.01031327]\n"
     ]
    },
    {
     "data": {
      "image/png": "[encoded data removed]",
      "text/plain": [
       "<Figure size 432x288 with 1 Axes>"
      ]
     },
     "metadata": {
      "needs_background": "light"
     },
     "output_type": "display_data"
    }
   ],
   "source": [
    "#using tree classifier to generate most important features\n",
    "from sklearn.ensemble import ExtraTreesClassifier\n",
    "import matplotlib.pyplot as plt\n",
    "model = ExtraTreesClassifier()\n",
    "model.fit(X_train_sc,y_train)\n",
    "print(model.feature_importances_) #use inbuilt class feature_importances of tree based classifiers\n",
    "#plot graph of feature importances for better visualization\n",
    "feat_importances = pd.Series(model.feature_importances_, index=X_test.columns)\n",
    "feat_importances.nlargest(10).plot(kind='barh')\n",
    "plt.show()"
   ]
  },
  {
   "cell_type": "code",
   "execution_count": 39,
   "metadata": {
    "collapsed": true,
    "jupyter": {
     "outputs_hidden": true
    }
   },
   "outputs": [
    {
     "data": {
      "text/plain": [
       "const            0.830199\n",
       "MSSubClass       0.795578\n",
       "MSZoning         0.054970\n",
       "LotFrontage      0.000035\n",
       "LotArea          0.015405\n",
       "Street           0.010587\n",
       "Alley            0.266683\n",
       "LotShape         0.065906\n",
       "LandContour      0.056999\n",
       "Utilities        0.013647\n",
       "LotConfig        0.223645\n",
       "LandSlope        0.258615\n",
       "Neighborhood     0.843030\n",
       "Condition1       0.881522\n",
       "Condition2       0.332546\n",
       "BldgType         0.562524\n",
       "HouseStyle       0.590997\n",
       "OverallQual      0.004981\n",
       "OverallCond      0.000047\n",
       "YearBuilt        0.037030\n",
       "YearRemodAdd     0.136159\n",
       "RoofStyle        0.754770\n",
       "RoofMatl         0.002527\n",
       "Exterior1st      0.675917\n",
       "Exterior2nd      0.952840\n",
       "MasVnrType       0.083796\n",
       "MasVnrArea       0.001265\n",
       "ExterQual        0.023662\n",
       "ExterCond        0.322248\n",
       "Foundation       0.952570\n",
       "BsmtQual         0.023550\n",
       "BsmtCond         0.080536\n",
       "BsmtExposure     0.167701\n",
       "BsmtFinType1     0.478513\n",
       "BsmtFinSF1       0.058477\n",
       "BsmtFinType2     0.733268\n",
       "BsmtFinSF2       0.684234\n",
       "BsmtUnfSF        0.883920\n",
       "TotalBsmtSF      0.045115\n",
       "Heating          0.914986\n",
       "HeatingQC        0.458673\n",
       "CentralAir       0.404039\n",
       "Electrical       0.890869\n",
       "1stFlrSF         0.000898\n",
       "2ndFlrSF         0.021903\n",
       "LowQualFinSF     0.208431\n",
       "GrLivArea        0.004644\n",
       "BsmtFullBath     0.019666\n",
       "BsmtHalfBath     0.180828\n",
       "FullBath         0.453351\n",
       "HalfBath         0.357791\n",
       "BedroomAbvGr     0.001356\n",
       "KitchenAbvGr     0.000175\n",
       "KitchenQual      0.000007\n",
       "TotRmsAbvGrd     0.068582\n",
       "Functional       0.004945\n",
       "Fireplaces       0.780433\n",
       "FireplaceQu      0.190623\n",
       "GarageType       0.078799\n",
       "GarageYrBlt      0.594838\n",
       "GarageFinish     0.270837\n",
       "GarageCars       0.481942\n",
       "GarageArea       0.001152\n",
       "GarageQual       0.777650\n",
       "GarageCond       0.528841\n",
       "PavedDrive       0.196789\n",
       "WoodDeckSF       0.047106\n",
       "OpenPorchSF      0.351098\n",
       "EnclosedPorch    0.878522\n",
       "3SsnPorch        0.780384\n",
       "ScreenPorch      0.589838\n",
       "PoolArea         0.283187\n",
       "PoolQC           0.283187\n",
       "Fence            0.140399\n",
       "MiscFeature      0.519010\n",
       "MiscVal          0.727296\n",
       "MoSold           0.930270\n",
       "YrSold           0.980316\n",
       "SaleType         0.436941\n",
       "SaleCondition    0.000103\n",
       "dtype: float64"
      ]
     },
     "execution_count": 39,
     "metadata": {},
     "output_type": "execute_result"
    }
   ],
   "source": [
    "#OLS regressiont to understand best parameters\n",
    "#Adding constant column of ones, mandatory for sm.OLS model\n",
    "X_test_1 = sm.add_constant(X_test)\n",
    "#Fitting sm.OLS model\n",
    "model = sm.OLS(y_test,X_test_1).fit()\n",
    "model.pvalues\n",
    "#this returns pvalues for our model, where the null hypothesis is that a coefficient is equal to zero. a pvalue <0.05 indicates we can reject the null and say that the coefficient is NOT equal to zero. "
   ]
  },
  {
   "cell_type": "code",
   "execution_count": 94,
   "metadata": {
    "collapsed": true,
    "jupyter": {
     "outputs_hidden": true,
     "source_hidden": true
    }
   },
   "outputs": [
    {
     "data": {
      "text/plain": [
       "['LotFrontage',\n",
       " 'LotArea',\n",
       " 'Street',\n",
       " 'LotShape',\n",
       " 'OverallQual',\n",
       " 'OverallCond',\n",
       " 'YearBuilt',\n",
       " 'RoofMatl',\n",
       " 'MasVnrType',\n",
       " 'MasVnrArea',\n",
       " 'ExterQual',\n",
       " 'BsmtFinSF1',\n",
       " '1stFlrSF',\n",
       " '2ndFlrSF',\n",
       " 'BsmtFullBath',\n",
       " 'BedroomAbvGr',\n",
       " 'KitchenAbvGr',\n",
       " 'KitchenQual',\n",
       " 'TotRmsAbvGrd',\n",
       " 'Functional',\n",
       " 'GarageArea',\n",
       " 'WoodDeckSF',\n",
       " 'SaleCondition']"
      ]
     },
     "execution_count": 94,
     "metadata": {},
     "output_type": "execute_result"
    }
   ],
   "source": [
    "#backwards elimination using above approach. Note we take values[1:] because we are ignoring the constant.. \n",
    "cols = list(X_test.columns)\n",
    "pmax = 1\n",
    "\n",
    "def OLS_features(X,y,pvalue=0.025):\n",
    "    while (len(cols) > 0):\n",
    "        p = []\n",
    "        X_test_1 = X[cols]\n",
    "        X_test_1 = sm.add_constant(X_test_1)\n",
    "        model = sm.OLS(y,X_test_1).fit()\n",
    "        p = pd.Series(model.pvalues.values[1:],index=cols)\n",
    "        pmax= max(p)\n",
    "        feature_with_max_p=p.idxmax()\n",
    "        if (pmax>pvalue):\n",
    "            cols.remove(feature_with_max_p)\n",
    "        else:\n",
    "            break\n",
    "    features_OLS=cols\n",
    "    return features_OLS\n",
    "OLS_features(X_test,y_test)"
   ]
  },
  {
   "cell_type": "code",
   "execution_count": 98,
   "metadata": {},
   "outputs": [],
   "source": [
    "features_OLS=OLS_features(X_train,y_train)"
   ]
  },
  {
   "cell_type": "code",
   "execution_count": 101,
   "metadata": {},
   "outputs": [],
   "source": [
    "OLS=set(features_OLS)\n",
    "Kbest=set(features_Kbest)\n",
    "\n",
    "Union=OLS.intersection(Kbest)"
   ]
  },
  {
   "cell_type": "code",
   "execution_count": null,
   "metadata": {},
   "outputs": [],
   "source": [
    "model = LinearRegression()\n",
    "#Initializing RFE model\n",
    "rfe = RFE(model, 7)\n",
    "#Transforming data using RFE\n",
    "X_rfe = rfe.fit_transform(X,y)  \n",
    "#Fitting the data to model\n",
    "model.fit(X_rfe,y)\n",
    "print(rfe.support_)\n",
    "print(rfe.ranking_)"
   ]
  },
  {
   "cell_type": "code",
   "execution_count": 119,
   "metadata": {},
   "outputs": [
    {
     "name": "stdout",
     "output_type": "stream",
     "text": [
      "[False False False False  True False False False  True False  True False\n",
      " False False False False  True False False False False  True False False\n",
      " False False  True False False False False False False False False False\n",
      " False False False False False False False False False False  True  True\n",
      "  True False False  True  True  True False  True False False False False\n",
      "  True False False False False False False False False False False  True\n",
      " False False False False False False False]\n",
      "[43 19 48 64  1 30 17 14  1 37  1 34 27  7  4 16  1 11 39 50  6  1 24 35\n",
      " 40 47  1 31 36  2  3 15 21 57 22 56 60 52 13 41 51 26 42 45 53 58  1  1\n",
      "  1  8 20  1  1  1 12  1  9 28 61 10  1 62 18 32  5 55 63 59 54 46 29  1\n",
      " 44 49 65 38 23 33 25]\n"
     ]
    }
   ],
   "source": [
    "#now running RFE for feature selection\n",
    "# model_rfe = LinearRegression()\n",
    "# rfe = RFE(model_rfe,15) \n",
    "# X_train_rfe = rfe.fit_transform(X_train,y_train)\n",
    "# model_rfe.fit(X_train_rfe,y_train)\n",
    "\n",
    "# print(rfe.support_)\n",
    "# print(rfe.ranking_)"
   ]
  },
  {
   "cell_type": "code",
   "execution_count": 144,
   "metadata": {},
   "outputs": [
    {
     "name": "stdout",
     "output_type": "stream",
     "text": [
      "Optimum number of features: 79\n",
      "Score with 79 features: 0.863349\n",
      "[[0.6336066094045196, 0.6406394999056959, 0.655912569794131, 0.6722870079833212, 0.6721426290788357, 0.6971432820602641, 0.7177529935881917, 0.7177701912661738, 0.7383248951934878, 0.7480312980939274, 0.7486504803590388, 0.7477330987763156, 0.7478825192213743, 0.7814057482129727, 0.7835626979076076, 0.7842231941861502, 0.7816999543408807, 0.7879809477320574, 0.7869933310147279, 0.7866001209770246, 0.7872995224602696, 0.7895432576353889, 0.7963398851124124, 0.795823441539044, 0.7991142265916149, 0.7988484819312769, 0.8015747160757667, 0.8005343107358536, 0.8006707212504252, 0.8015286469011238, 0.8033096996661453, 0.8070914617412508, 0.8075470496038097, 0.8110221151954302, 0.8128838576038904, 0.813135664343369, 0.8144780936737365, 0.8154019737854585, 0.8151982755552342, 0.8147973714229692, 0.8160096144534084, 0.815779580970316, 0.8159229475519252, 0.8161760128409186, 0.8158957708895583, 0.814346460678017, 0.813774348780901, 0.8136746309529352, 0.8134564315735117, 0.8142275705314757, 0.8140648413833667, 0.8143739133134185, 0.8145813577988215, 0.831895381895786, 0.8321419773139513, 0.8321328562158613, 0.8530286942730124, 0.8541035977173291, 0.8604099873803224, 0.860022310143286, 0.8586701864522808, 0.8586622746171965, 0.8602041143381323, 0.8601745390105402, 0.8586451872775669, 0.8586293982830863, 0.8621339837916218, 0.8613023435890297, 0.8605091301830501, 0.8605091301830599, 0.8605077645736764, 0.8631660179752533, 0.8628606474487088, 0.8628627076561851, 0.8626824596577658, 0.8626824596577656, 0.8625647731143737, 0.8625650204169686, 0.8633493239968131]]\n"
     ]
    }
   ],
   "source": [
    "#now estimating the optimum number of features \n",
    "high_score=0\n",
    "nof_list=np.arange(1,80)\n",
    "#variable to store optimal features\n",
    "nof=0\n",
    "score_list=[]\n",
    "model_rfe=LinearRegression()\n",
    "\n",
    "#we are now saying rfe is model with number of features going up to 80 gradually loop by loop, then we store the accuracies\n",
    "for n in range(len(nof_list)):\n",
    "    rfe=RFE(model_rfe,nof_list[n])\n",
    "    X_train_rfe=rfe.fit_transform(X_train,y_train)\n",
    "    X_test_rfe=rfe.transform(X_test)\n",
    "    model_rfe.fit(X_train_rfe,y_train)\n",
    "    score = model_rfe.score(X_test_rfe,y_test)\n",
    "    score_list.append(score)\n",
    "    if(score>high_score):\n",
    "        high_score = score\n",
    "        nof = nof_list[n]\n",
    "print(\"Optimum number of features: %d\" %nof)\n",
    "print(\"Score with %d features: %f\" % (nof, high_score))\n",
    "print([score_list])"
   ]
  },
  {
   "cell_type": "code",
   "execution_count": null,
   "metadata": {},
   "outputs": [],
   "source": [
    " "
   ]
  }
 ],
 "metadata": {
  "kernelspec": {
   "display_name": "Python 3",
   "language": "python",
   "name": "python3"
  },
  "language_info": {
   "codemirror_mode": {
    "name": "ipython",
    "version": 3
   },
   "file_extension": ".py",
   "mimetype": "text/x-python",
   "name": "python",
   "nbconvert_exporter": "python",
   "pygments_lexer": "ipython3",
   "version": "3.7.3"
  }
 },
 "nbformat": 4,
 "nbformat_minor": 4
}
