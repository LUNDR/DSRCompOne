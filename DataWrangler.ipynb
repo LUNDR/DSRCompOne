{
 "cells": [
  {
   "cell_type": "code",
   "execution_count": 37,
   "metadata": {},
   "outputs": [],
   "source": [
    "import pandas as pd\n",
    "import numpy as np\n",
    "import seaborn as sns\n",
    "from datetime import datetime\n"
   ]
  },
  {
   "cell_type": "code",
   "execution_count": 93,
   "metadata": {},
   "outputs": [],
   "source": [
    "#%% 0. Housekeeping \n",
    "\n",
    "# =============================================================================\n",
    "# 0.1 Import packages\n",
    "# =============================================================================\n",
    "\n",
    "import pandas as pd\n",
    "import datetime as dt\n",
    "from datetime import datetime\n",
    "   \n",
    "# =============================================================================\n",
    "# 0.2 Import data\n",
    "# =============================================================================\n",
    "\n",
    "train = pd.read_csv('data/train.csv', low_memory=False)\n",
    "store = pd.read_csv('data/store.csv', low_memory=False)\n",
    "\n",
    "#%% 1. Merging store to train data\n",
    "\n",
    "# =============================================================================\n",
    "# 1.1 Since data has to have the same size as 'train', a container is created\n",
    "# =============================================================================\n",
    "\n",
    "# Creating dataframe\n",
    "expanded_store = train\n",
    "\n",
    "# =============================================================================\n",
    "# 1.2 Merging variables which do not have to be changed\n",
    "# =============================================================================\n",
    "\n",
    "# Variables which can be merged right away\n",
    "easy = store.loc[:,['Store','StoreType','Assortment','CompetitionDistance']]\n",
    "\n",
    "# Variables which can be simply merged\n",
    "expanded_store = pd.merge(expanded_store, easy, on=['Store'])\n",
    "\n",
    "#%% 2. Creating a dummy variable since for competition is open for every store\n",
    "\n",
    "# =============================================================================\n",
    "# 2.1 Checking whether there is actually competition\n",
    "# =============================================================================\n",
    "\n",
    "# Dataset of the variables which have to be transformed\n",
    "competition = store.loc[:,['Store',\n",
    "                           'CompetitionOpenSinceMonth','CompetitionOpenSinceYear']]\n",
    "\n",
    "# For easier looping \n",
    "competition.set_index('Store', inplace=True)\n",
    "\n",
    "# Finding stores which have competition openend\n",
    "open_comp = competition.any(axis=1)\n",
    "\n",
    "# Stores with competition\n",
    "open_stores = competition.loc[open_comp].index.unique()\n",
    "\n",
    "# =============================================================================\n",
    "# 2.2 Generating dummy for the time competition is existing\n",
    "# =============================================================================\n",
    "\n",
    "# Generating Date when opened\n",
    "for store_id in open_stores: \n",
    "    year = competition.loc[store_id,'CompetitionOpenSinceYear'].astype(int)\n",
    "    month = competition.loc[store_id,'CompetitionOpenSinceMonth'].astype(int)\n",
    "    competition.loc[store_id,'CompetitionDate'] = datetime(year,month,1)\n",
    "\n",
    "# Creating a dummy variable for whether competition openend for each store\n",
    "expanded_store.loc[:,'CompetitionOpened'] = 0\n",
    "\n",
    "for store_id in open_stores: \n",
    "    \n",
    "    # Getting the date when competition openend\n",
    "    date = competition.loc[store_id,'CompetitionDate']\n",
    "    date_str= date.strftime(\"%Y-%m-%d\")\n",
    "    \n",
    "    store_number = expanded_store.loc[:,'Store'] == store_id\n",
    "    \n",
    "    maximum_date = expanded_store.loc[store_number,'Date'].max()\n",
    "    \n",
    "    # Whether it falls in time frame\n",
    "    competition_existing = (expanded_store.loc[:,'Date'].between(date_str,maximum_date)) &  (expanded_store.loc[:,'Store'] == store_id)\n",
    "    \n",
    "    # Indicating whether competition is around\n",
    "    expanded_store.loc[competition_existing, 'CompetitionOpened'] = 1\n",
    "\n",
    "\n",
    "#%% 3. Creating a dummy variable for Promo\n",
    " \n",
    "# =============================================================================\n",
    "# 3.1 Since data has to have the same size as 'train', a container is created\n",
    "# =============================================================================\n",
    "\n",
    "# Create dataframe\n",
    "promo2 = store.loc[:,['Store',\n",
    "                     'Promo2','Promo2SinceWeek','Promo2SinceYear','PromoInterval']]\n",
    "\n",
    "# =============================================================================\n",
    "# 3.2 Create dummy for whether a promo2 is running \n",
    "# =============================================================================\n",
    "\n",
    "# Getting date from which promo started\n",
    "length = promo2.shape[0]\n",
    "for i in range(length): \n",
    "    if promo2.loc[i,'Promo2']:\n",
    "        week = promo2.loc[i,'Promo2SinceWeek'].astype(int)\n",
    "        year = promo2.loc[i,'Promo2SinceYear'].astype(int)\n",
    "        promo2.loc[i,'promo2start'] = dt.datetime.strptime(f'{year}-W{int(week )- 1}-1', \"%Y-W%W-%w\").date()\n",
    "\n",
    "# Merge it with the train file\n",
    "expanded_promo = pd.merge(expanded_store, promo2, on=['Store'])\n",
    "\n",
    "\n",
    "# Empty container with no promo indicator\n",
    "expanded_promo.loc[:,'Promo2GoingOn'] = 0\n",
    "\n",
    "# Month indication\n",
    "expanded_promo.loc[:,'Date_str'] = pd.to_datetime(expanded_promo.loc[:,'Date'],).dt.strftime('%Y-%b-%d')\n",
    "expanded_promo.loc[:,'Date'] = pd.to_datetime(expanded_promo.loc[:,'Date'],)\n",
    "expanded_promo.loc[:,'month'] = expanded_promo.loc[:,'Date_str'].str[5:8]\n",
    "\n",
    "\n",
    "months = expanded_promo.loc[:,'month'].unique()\n",
    "\n",
    "for month in months:\n",
    "    month_boolean = expanded_promo.loc[:,'PromoInterval'].str.contains(month, na=False)\n",
    "    expanded_promo.loc[month_boolean,'Promo2GoingOn'] = 1"
   ]
  },
  {
   "cell_type": "code",
   "execution_count": 97,
   "metadata": {},
   "outputs": [
    {
     "data": {
      "text/plain": [
       "Index(['Date', 'Store', 'DayOfWeek', 'Sales', 'Customers', 'Open', 'Promo',\n",
       "       'StateHoliday', 'SchoolHoliday', 'StoreType', 'Assortment',\n",
       "       'CompetitionDistance', 'CompetitionOpened', 'Promo2', 'Promo2SinceWeek',\n",
       "       'Promo2SinceYear', 'PromoInterval', 'promo2start', 'Promo2GoingOn',\n",
       "       'Date_str', 'month'],\n",
       "      dtype='object')"
      ]
     },
     "execution_count": 97,
     "metadata": {},
     "output_type": "execute_result"
    }
   ],
   "source": [
    "expanded_promo.columns\n",
    "expanded=expanded_promo\n",
    "expanded.columns"
   ]
  },
  {
   "cell_type": "code",
   "execution_count": 98,
   "metadata": {},
   "outputs": [],
   "source": [
    "# Convert Dates to Date time\n",
    "expanded['Date']=pd.to_datetime(expanded['Date'])\n"
   ]
  },
  {
   "cell_type": "code",
   "execution_count": 99,
   "metadata": {},
   "outputs": [],
   "source": [
    "#add in variables for day of month etc\n",
    "expanded['dayofweek'] = expanded['Date'].dt.dayofweek\n",
    "expanded['quarter'] = expanded['Date'].dt.quarter\n",
    "expanded['month'] = expanded['Date'].dt.month\n",
    "expanded['year'] = expanded['Date'].dt.year\n",
    "expanded['dayofyear'] = expanded['Date'].dt.dayofyear\n",
    "expanded['dayofmonth'] = expanded['Date'].dt.day\n",
    "expanded['weekofyear'] = expanded['Date'].dt.weekofyear"
   ]
  },
  {
   "cell_type": "code",
   "execution_count": 100,
   "metadata": {},
   "outputs": [],
   "source": [
    "#create dummy variables for day of week etc and categorical variables\n",
    "\n",
    "expanded= pd.get_dummies(expanded,columns=['dayofweek','dayofmonth','quarter','month','StateHoliday'])\n",
    "\n",
    "#expanded.drop(expanded['Date_str'])\n"
   ]
  },
  {
   "cell_type": "code",
   "execution_count": 101,
   "metadata": {},
   "outputs": [],
   "source": [
    "#Re-add original day of month variable etc.\n",
    "expanded['dayofweek'] = expanded['Date'].dt.dayofweek\n",
    "expanded['quarter'] = expanded['Date'].dt.quarter\n",
    "expanded['month'] = expanded['Date'].dt.month\n",
    "expanded['year'] = expanded['Date'].dt.year\n",
    "expanded['dayofyear'] = expanded['Date'].dt.dayofyear\n",
    "expanded['dayofmonth'] = expanded['Date'].dt.day\n",
    "expanded['weekofyear'] = expanded['Date'].dt.weekofyear\n",
    "\n",
    "\n"
   ]
  },
  {
   "cell_type": "code",
   "execution_count": 102,
   "metadata": {},
   "outputs": [
    {
     "data": {
      "text/plain": [
       "Index(['Date', 'Store', 'DayOfWeek', 'Sales', 'Customers', 'Open', 'Promo',\n",
       "       'SchoolHoliday', 'StoreType', 'Assortment', 'CompetitionDistance',\n",
       "       'CompetitionOpened', 'Promo2', 'Promo2SinceWeek', 'Promo2SinceYear',\n",
       "       'PromoInterval', 'promo2start', 'Promo2GoingOn', 'Date_str', 'year',\n",
       "       'dayofyear', 'weekofyear', 'dayofweek_0', 'dayofweek_1', 'dayofweek_2',\n",
       "       'dayofweek_3', 'dayofweek_4', 'dayofweek_5', 'dayofweek_6',\n",
       "       'dayofmonth_1', 'dayofmonth_2', 'dayofmonth_3', 'dayofmonth_4',\n",
       "       'dayofmonth_5', 'dayofmonth_6', 'dayofmonth_7', 'dayofmonth_8',\n",
       "       'dayofmonth_9', 'dayofmonth_10', 'dayofmonth_11', 'dayofmonth_12',\n",
       "       'dayofmonth_13', 'dayofmonth_14', 'dayofmonth_15', 'dayofmonth_16',\n",
       "       'dayofmonth_17', 'dayofmonth_18', 'dayofmonth_19', 'dayofmonth_20',\n",
       "       'dayofmonth_21', 'dayofmonth_22', 'dayofmonth_23', 'dayofmonth_24',\n",
       "       'dayofmonth_25', 'dayofmonth_26', 'dayofmonth_27', 'dayofmonth_28',\n",
       "       'dayofmonth_29', 'dayofmonth_30', 'dayofmonth_31', 'quarter_1',\n",
       "       'quarter_2', 'quarter_3', 'quarter_4', 'month_1', 'month_2', 'month_3',\n",
       "       'month_4', 'month_5', 'month_6', 'month_7', 'month_8', 'month_9',\n",
       "       'month_10', 'month_11', 'month_12', 'StateHoliday_0', 'StateHoliday_a',\n",
       "       'StateHoliday_b', 'StateHoliday_c', 'dayofweek', 'quarter', 'month',\n",
       "       'dayofmonth'],\n",
       "      dtype='object')"
      ]
     },
     "execution_count": 102,
     "metadata": {},
     "output_type": "execute_result"
    }
   ],
   "source": [
    "expanded.columns"
   ]
  },
  {
   "cell_type": "code",
   "execution_count": 103,
   "metadata": {},
   "outputs": [],
   "source": [
    "#create average sales per customer\n",
    "df=expanded.groupby(by=['Store']).agg({'Sales':'sum','Customers':'sum'})\n",
    "df['av_SalesPerCustomer']=df['Sales']/df['Customers']\n",
    "df.sort_values(by='av_SalesPerCustomer',ascending=False)\n",
    "expanded = pd.merge(expanded, df['av_SalesPerCustomer'], on=['Store'])\n",
    "\n",
    "#create sales per customer for each store and day\n",
    "#expanded['SalesPerCustomer']=expanded['Sales']/expanded['Customers']\n"
   ]
  },
  {
   "cell_type": "code",
   "execution_count": 104,
   "metadata": {},
   "outputs": [],
   "source": [
    "#create av sales per day of the week\n",
    "df=expanded.groupby(by=['Store','dayofweek']).agg({'Sales':'sum','Customers':'sum'})\n",
    "df['av_SalesPerCustomer_dayofweek']=df['Sales']/df['Customers']\n",
    "expanded = pd.merge(expanded, df['av_SalesPerCustomer_dayofweek'], on=['Store','dayofweek'])\n"
   ]
  },
  {
   "cell_type": "code",
   "execution_count": 105,
   "metadata": {},
   "outputs": [],
   "source": [
    "#create av sales per day of month\n",
    "df=expanded.groupby(by=['Store','dayofmonth']).agg({'Sales':'sum','Customers':'sum'})\n",
    "df['av_SalesPerCustomer_dayofmonth']=df['Sales']/df['Customers']\n",
    "expanded = pd.merge(expanded, df['av_SalesPerCustomer_dayofmonth'], on=['Store','dayofmonth'])\n"
   ]
  },
  {
   "cell_type": "code",
   "execution_count": 106,
   "metadata": {},
   "outputs": [],
   "source": [
    "#drop if any other values null\n",
    "data_new=expanded\n",
    "data_new.set_index('Date',inplace=True)\n",
    "data_new=data_new.dropna(axis = 0, how ='any')\n",
    "data_new=data_new[data_new['Sales'] >0 ]\n",
    "#expanded_new.to_csv('data/train_all_10_Oct.csv')"
   ]
  },
  {
   "cell_type": "code",
   "execution_count": 107,
   "metadata": {},
   "outputs": [
    {
     "data": {
      "text/plain": [
       "(216185, 86)"
      ]
     },
     "execution_count": 107,
     "metadata": {},
     "output_type": "execute_result"
    }
   ],
   "source": [
    "data_new.shape"
   ]
  },
  {
   "cell_type": "code",
   "execution_count": null,
   "metadata": {},
   "outputs": [],
   "source": []
  }
 ],
 "metadata": {
  "kernelspec": {
   "display_name": "Python 3",
   "language": "python",
   "name": "python3"
  },
  "language_info": {
   "codemirror_mode": {
    "name": "ipython",
    "version": 3
   },
   "file_extension": ".py",
   "mimetype": "text/x-python",
   "name": "python",
   "nbconvert_exporter": "python",
   "pygments_lexer": "ipython3",
   "version": "3.6.9"
  }
 },
 "nbformat": 4,
 "nbformat_minor": 4
}
