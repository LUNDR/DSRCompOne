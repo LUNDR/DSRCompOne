{
 "cells": [
  {
   "cell_type": "code",
   "execution_count": 1,
   "metadata": {},
   "outputs": [],
   "source": [
    "import pandas as pd\n",
    "import numpy as np\n",
    "import seaborn as sns\n",
    "from datetime import datetime\n"
   ]
  },
  {
   "cell_type": "code",
   "execution_count": 2,
   "metadata": {},
   "outputs": [],
   "source": [
    "\n",
    "# =============================================================================\n",
    "# 0.2 Import data\n",
    "# =============================================================================\n",
    "\n",
    "train = pd.read_csv('data/train.csv', low_memory=False)\n",
    "store = pd.read_csv('data/store.csv', low_memory=False)\n",
    "\n",
    "#%% 1. Merging store to train data\n",
    "\n",
    "# =============================================================================\n",
    "# 1.1 Since data has to has the same size as 'train', a container is created\n",
    "# =============================================================================\n",
    "\n",
    "# Creating dataframe\n",
    "expanded_store = train\n",
    "\n",
    "# =============================================================================\n",
    "# 1.2 Merging variables which do not have to be changed\n",
    "# =============================================================================\n",
    "\n",
    "# Variables which can be merged right away\n",
    "easy = store.loc[:,['Store','StoreType','Assortment','CompetitionDistance']]\n",
    "\n",
    "# Variables which can be simply merged\n",
    "expanded_store = pd.merge(expanded_store, easy, on=['Store'])\n"
   ]
  },
  {
   "cell_type": "code",
   "execution_count": 3,
   "metadata": {},
   "outputs": [],
   "source": [
    "expanded=expanded_store"
   ]
  },
  {
   "cell_type": "code",
   "execution_count": 4,
   "metadata": {},
   "outputs": [
    {
     "name": "stdout",
     "output_type": "stream",
     "text": [
      "(618473, 12)\n",
      "(637774, 9)\n"
     ]
    }
   ],
   "source": [
    "print(expanded.shape)\n",
    "print(train.shape)"
   ]
  },
  {
   "cell_type": "code",
   "execution_count": 5,
   "metadata": {},
   "outputs": [
    {
     "name": "stdout",
     "output_type": "stream",
     "text": [
      "<class 'pandas.core.frame.DataFrame'>\n",
      "RangeIndex: 637774 entries, 0 to 637773\n",
      "Data columns (total 9 columns):\n",
      "Date             637774 non-null object\n",
      "Store            618473 non-null float64\n",
      "DayOfWeek        618757 non-null float64\n",
      "Sales            618747 non-null float64\n",
      "Customers        618683 non-null float64\n",
      "Open             618588 non-null float64\n",
      "Promo            618580 non-null float64\n",
      "StateHoliday     618520 non-null object\n",
      "SchoolHoliday    618437 non-null float64\n",
      "dtypes: float64(7), object(2)\n",
      "memory usage: 43.8+ MB\n"
     ]
    }
   ],
   "source": [
    "train.info()\n",
    "#Date needs to be changed to time(no NAs)\n",
    "#train['Date'].isna().sum()\n",
    "#Store needs to be made a non-number variable\n",
    "#Day of Week -> nan's need to be converted to day number -> also need to be made dummies rather than continuous\n",
    "#train['DayOfWeek'].isna().sum() -\n",
    "#train['Sales'].isna().sum()\n",
    "#train['StateHoliday'].unique()"
   ]
  },
  {
   "cell_type": "code",
   "execution_count": 6,
   "metadata": {},
   "outputs": [
    {
     "name": "stdout",
     "output_type": "stream",
     "text": [
      "<class 'pandas.core.frame.DataFrame'>\n",
      "Int64Index: 618473 entries, 0 to 618472\n",
      "Data columns (total 12 columns):\n",
      "Date                   618473 non-null datetime64[ns]\n",
      "Store                  618473 non-null float64\n",
      "DayOfWeek              600036 non-null float64\n",
      "Sales                  600028 non-null float64\n",
      "Customers              599957 non-null float64\n",
      "Open                   599832 non-null float64\n",
      "Promo                  599791 non-null float64\n",
      "StateHoliday           599873 non-null object\n",
      "SchoolHoliday          599686 non-null float64\n",
      "StoreType              618473 non-null object\n",
      "Assortment             618473 non-null object\n",
      "CompetitionDistance    616838 non-null float64\n",
      "dtypes: datetime64[ns](1), float64(8), object(3)\n",
      "memory usage: 61.3+ MB\n"
     ]
    }
   ],
   "source": [
    "# Convert Dates to Date time\n",
    "expanded['Date']=pd.to_datetime(expanded['Date'])\n",
    "expanded.info()"
   ]
  },
  {
   "cell_type": "code",
   "execution_count": 136,
   "metadata": {},
   "outputs": [],
   "source": [
    " \n",
    "    expanded['hour'] = expanded['Date'].dt.hour\n",
    "    expanded['dayofweek'] = expanded['Date'].dt.dayofweek\n",
    "    expanded['quarter'] = expanded['Date'].dt.quarter\n",
    "    expanded['month'] = expanded['Date'].dt.month\n",
    "    expanded['year'] = expanded['Date'].dt.year\n",
    "    expanded['dayofyear'] = expanded['Date'].dt.dayofyear\n",
    "    expanded['dayofmonth'] = expanded['Date'].dt.day\n",
    "    expanded['weekofyear'] = expanded['Date'].dt.weekofyear"
   ]
  },
  {
   "cell_type": "code",
   "execution_count": 184,
   "metadata": {},
   "outputs": [
    {
     "data": {
      "text/plain": [
       "Index(['Date', 'Store', 'DayOfWeek', 'Sales', 'Customers', 'Open', 'Promo',\n",
       "       'SchoolHoliday', 'CompetitionDistance', 'StateHoliday_0',\n",
       "       'StateHoliday_a', 'StateHoliday_b', 'StateHoliday_c', 'StoreType_a',\n",
       "       'StoreType_b', 'StoreType_c', 'StoreType_d', 'Assortment_a',\n",
       "       'Assortment_b', 'Assortment_c'],\n",
       "      dtype='object')"
      ]
     },
     "execution_count": 184,
     "metadata": {},
     "output_type": "execute_result"
    }
   ],
   "source": [
    "expanded= pd.get_dummies(expanded)\n",
    "expanded.columns"
   ]
  },
  {
   "cell_type": "code",
   "execution_count": 187,
   "metadata": {},
   "outputs": [
    {
     "name": "stdout",
     "output_type": "stream",
     "text": [
      "<class 'pandas.core.frame.DataFrame'>\n",
      "Int64Index: 513606 entries, 0 to 618472\n",
      "Data columns (total 20 columns):\n",
      "Date                   513606 non-null datetime64[ns]\n",
      "Store                  513606 non-null float64\n",
      "DayOfWeek              513606 non-null float64\n",
      "Sales                  513606 non-null float64\n",
      "Customers              513606 non-null float64\n",
      "Open                   513606 non-null float64\n",
      "Promo                  513606 non-null float64\n",
      "SchoolHoliday          513606 non-null float64\n",
      "CompetitionDistance    513606 non-null float64\n",
      "StateHoliday_0         513606 non-null uint8\n",
      "StateHoliday_a         513606 non-null uint8\n",
      "StateHoliday_b         513606 non-null uint8\n",
      "StateHoliday_c         513606 non-null uint8\n",
      "StoreType_a            513606 non-null uint8\n",
      "StoreType_b            513606 non-null uint8\n",
      "StoreType_c            513606 non-null uint8\n",
      "StoreType_d            513606 non-null uint8\n",
      "Assortment_a           513606 non-null uint8\n",
      "Assortment_b           513606 non-null uint8\n",
      "Assortment_c           513606 non-null uint8\n",
      "dtypes: datetime64[ns](1), float64(8), uint8(11)\n",
      "memory usage: 44.6 MB\n"
     ]
    }
   ],
   "source": [
    "#drop if any other values null\n",
    "\n",
    "expanded_new=expanded.dropna(axis = 0, how ='any') \n",
    "expanded_new.info()\n",
    "expanded_new.to_csv('data/train_all_10_Oct.csv')"
   ]
  },
  {
   "cell_type": "code",
   "execution_count": null,
   "metadata": {},
   "outputs": [],
   "source": [
    "pd.write"
   ]
  },
  {
   "cell_type": "code",
   "execution_count": null,
   "metadata": {},
   "outputs": [],
   "source": []
  },
  {
   "cell_type": "markdown",
   "metadata": {},
   "source": [
    "Check the data are what we think they are"
   ]
  },
  {
   "cell_type": "code",
   "execution_count": 139,
   "metadata": {},
   "outputs": [
    {
     "data": {
      "text/html": [
       "<div>\n",
       "<style scoped>\n",
       "    .dataframe tbody tr th:only-of-type {\n",
       "        vertical-align: middle;\n",
       "    }\n",
       "\n",
       "    .dataframe tbody tr th {\n",
       "        vertical-align: top;\n",
       "    }\n",
       "\n",
       "    .dataframe thead th {\n",
       "        text-align: right;\n",
       "    }\n",
       "</style>\n",
       "<table border=\"1\" class=\"dataframe\">\n",
       "  <thead>\n",
       "    <tr style=\"text-align: right;\">\n",
       "      <th></th>\n",
       "      <th></th>\n",
       "      <th>DayOfWeek</th>\n",
       "      <th>Sales</th>\n",
       "      <th>Customers</th>\n",
       "      <th>Open</th>\n",
       "      <th>Promo</th>\n",
       "      <th>StateHoliday</th>\n",
       "      <th>SchoolHoliday</th>\n",
       "      <th>hour</th>\n",
       "      <th>dayofweek</th>\n",
       "      <th>quarter</th>\n",
       "      <th>month</th>\n",
       "      <th>year</th>\n",
       "      <th>dayofyear</th>\n",
       "      <th>dayofmonth</th>\n",
       "      <th>weekofyear</th>\n",
       "    </tr>\n",
       "    <tr>\n",
       "      <th>Date</th>\n",
       "      <th>Store</th>\n",
       "      <th></th>\n",
       "      <th></th>\n",
       "      <th></th>\n",
       "      <th></th>\n",
       "      <th></th>\n",
       "      <th></th>\n",
       "      <th></th>\n",
       "      <th></th>\n",
       "      <th></th>\n",
       "      <th></th>\n",
       "      <th></th>\n",
       "      <th></th>\n",
       "      <th></th>\n",
       "      <th></th>\n",
       "      <th></th>\n",
       "    </tr>\n",
       "  </thead>\n",
       "  <tbody>\n",
       "    <tr>\n",
       "      <td rowspan=\"5\" valign=\"top\">2013-01-01</td>\n",
       "      <td>1.0</td>\n",
       "      <td>1</td>\n",
       "      <td>1</td>\n",
       "      <td>1</td>\n",
       "      <td>1</td>\n",
       "      <td>1</td>\n",
       "      <td>1</td>\n",
       "      <td>1</td>\n",
       "      <td>1</td>\n",
       "      <td>1</td>\n",
       "      <td>1</td>\n",
       "      <td>1</td>\n",
       "      <td>1</td>\n",
       "      <td>1</td>\n",
       "      <td>1</td>\n",
       "      <td>1</td>\n",
       "    </tr>\n",
       "    <tr>\n",
       "      <td>2.0</td>\n",
       "      <td>1</td>\n",
       "      <td>1</td>\n",
       "      <td>1</td>\n",
       "      <td>1</td>\n",
       "      <td>1</td>\n",
       "      <td>1</td>\n",
       "      <td>1</td>\n",
       "      <td>1</td>\n",
       "      <td>1</td>\n",
       "      <td>1</td>\n",
       "      <td>1</td>\n",
       "      <td>1</td>\n",
       "      <td>1</td>\n",
       "      <td>1</td>\n",
       "      <td>1</td>\n",
       "    </tr>\n",
       "    <tr>\n",
       "      <td>3.0</td>\n",
       "      <td>1</td>\n",
       "      <td>1</td>\n",
       "      <td>1</td>\n",
       "      <td>1</td>\n",
       "      <td>1</td>\n",
       "      <td>1</td>\n",
       "      <td>1</td>\n",
       "      <td>1</td>\n",
       "      <td>1</td>\n",
       "      <td>1</td>\n",
       "      <td>1</td>\n",
       "      <td>1</td>\n",
       "      <td>1</td>\n",
       "      <td>1</td>\n",
       "      <td>1</td>\n",
       "    </tr>\n",
       "    <tr>\n",
       "      <td>4.0</td>\n",
       "      <td>1</td>\n",
       "      <td>1</td>\n",
       "      <td>1</td>\n",
       "      <td>1</td>\n",
       "      <td>1</td>\n",
       "      <td>1</td>\n",
       "      <td>1</td>\n",
       "      <td>1</td>\n",
       "      <td>1</td>\n",
       "      <td>1</td>\n",
       "      <td>1</td>\n",
       "      <td>1</td>\n",
       "      <td>1</td>\n",
       "      <td>1</td>\n",
       "      <td>1</td>\n",
       "    </tr>\n",
       "    <tr>\n",
       "      <td>6.0</td>\n",
       "      <td>1</td>\n",
       "      <td>1</td>\n",
       "      <td>1</td>\n",
       "      <td>1</td>\n",
       "      <td>1</td>\n",
       "      <td>1</td>\n",
       "      <td>1</td>\n",
       "      <td>1</td>\n",
       "      <td>1</td>\n",
       "      <td>1</td>\n",
       "      <td>1</td>\n",
       "      <td>1</td>\n",
       "      <td>1</td>\n",
       "      <td>1</td>\n",
       "      <td>1</td>\n",
       "    </tr>\n",
       "    <tr>\n",
       "      <td>...</td>\n",
       "      <td>...</td>\n",
       "      <td>...</td>\n",
       "      <td>...</td>\n",
       "      <td>...</td>\n",
       "      <td>...</td>\n",
       "      <td>...</td>\n",
       "      <td>...</td>\n",
       "      <td>...</td>\n",
       "      <td>...</td>\n",
       "      <td>...</td>\n",
       "      <td>...</td>\n",
       "      <td>...</td>\n",
       "      <td>...</td>\n",
       "      <td>...</td>\n",
       "      <td>...</td>\n",
       "      <td>...</td>\n",
       "    </tr>\n",
       "    <tr>\n",
       "      <td rowspan=\"5\" valign=\"top\">2014-07-31</td>\n",
       "      <td>1108.0</td>\n",
       "      <td>1</td>\n",
       "      <td>1</td>\n",
       "      <td>1</td>\n",
       "      <td>1</td>\n",
       "      <td>1</td>\n",
       "      <td>1</td>\n",
       "      <td>1</td>\n",
       "      <td>1</td>\n",
       "      <td>1</td>\n",
       "      <td>1</td>\n",
       "      <td>1</td>\n",
       "      <td>1</td>\n",
       "      <td>1</td>\n",
       "      <td>1</td>\n",
       "      <td>1</td>\n",
       "    </tr>\n",
       "    <tr>\n",
       "      <td>1110.0</td>\n",
       "      <td>1</td>\n",
       "      <td>1</td>\n",
       "      <td>1</td>\n",
       "      <td>1</td>\n",
       "      <td>1</td>\n",
       "      <td>1</td>\n",
       "      <td>1</td>\n",
       "      <td>1</td>\n",
       "      <td>1</td>\n",
       "      <td>1</td>\n",
       "      <td>1</td>\n",
       "      <td>1</td>\n",
       "      <td>1</td>\n",
       "      <td>1</td>\n",
       "      <td>1</td>\n",
       "    </tr>\n",
       "    <tr>\n",
       "      <td>1112.0</td>\n",
       "      <td>1</td>\n",
       "      <td>1</td>\n",
       "      <td>1</td>\n",
       "      <td>1</td>\n",
       "      <td>1</td>\n",
       "      <td>1</td>\n",
       "      <td>1</td>\n",
       "      <td>1</td>\n",
       "      <td>1</td>\n",
       "      <td>1</td>\n",
       "      <td>1</td>\n",
       "      <td>1</td>\n",
       "      <td>1</td>\n",
       "      <td>1</td>\n",
       "      <td>1</td>\n",
       "    </tr>\n",
       "    <tr>\n",
       "      <td>1113.0</td>\n",
       "      <td>1</td>\n",
       "      <td>1</td>\n",
       "      <td>1</td>\n",
       "      <td>1</td>\n",
       "      <td>1</td>\n",
       "      <td>1</td>\n",
       "      <td>1</td>\n",
       "      <td>1</td>\n",
       "      <td>1</td>\n",
       "      <td>1</td>\n",
       "      <td>1</td>\n",
       "      <td>1</td>\n",
       "      <td>1</td>\n",
       "      <td>1</td>\n",
       "      <td>1</td>\n",
       "    </tr>\n",
       "    <tr>\n",
       "      <td>1114.0</td>\n",
       "      <td>1</td>\n",
       "      <td>1</td>\n",
       "      <td>1</td>\n",
       "      <td>1</td>\n",
       "      <td>1</td>\n",
       "      <td>1</td>\n",
       "      <td>1</td>\n",
       "      <td>1</td>\n",
       "      <td>1</td>\n",
       "      <td>1</td>\n",
       "      <td>1</td>\n",
       "      <td>1</td>\n",
       "      <td>1</td>\n",
       "      <td>1</td>\n",
       "      <td>1</td>\n",
       "    </tr>\n",
       "  </tbody>\n",
       "</table>\n",
       "<p>499419 rows × 15 columns</p>\n",
       "</div>"
      ],
      "text/plain": [
       "                   DayOfWeek  Sales  Customers  Open  Promo  StateHoliday  \\\n",
       "Date       Store                                                            \n",
       "2013-01-01 1.0             1      1          1     1      1             1   \n",
       "           2.0             1      1          1     1      1             1   \n",
       "           3.0             1      1          1     1      1             1   \n",
       "           4.0             1      1          1     1      1             1   \n",
       "           6.0             1      1          1     1      1             1   \n",
       "...                      ...    ...        ...   ...    ...           ...   \n",
       "2014-07-31 1108.0          1      1          1     1      1             1   \n",
       "           1110.0          1      1          1     1      1             1   \n",
       "           1112.0          1      1          1     1      1             1   \n",
       "           1113.0          1      1          1     1      1             1   \n",
       "           1114.0          1      1          1     1      1             1   \n",
       "\n",
       "                   SchoolHoliday  hour  dayofweek  quarter  month  year  \\\n",
       "Date       Store                                                          \n",
       "2013-01-01 1.0                 1     1          1        1      1     1   \n",
       "           2.0                 1     1          1        1      1     1   \n",
       "           3.0                 1     1          1        1      1     1   \n",
       "           4.0                 1     1          1        1      1     1   \n",
       "           6.0                 1     1          1        1      1     1   \n",
       "...                          ...   ...        ...      ...    ...   ...   \n",
       "2014-07-31 1108.0              1     1          1        1      1     1   \n",
       "           1110.0              1     1          1        1      1     1   \n",
       "           1112.0              1     1          1        1      1     1   \n",
       "           1113.0              1     1          1        1      1     1   \n",
       "           1114.0              1     1          1        1      1     1   \n",
       "\n",
       "                   dayofyear  dayofmonth  weekofyear  \n",
       "Date       Store                                      \n",
       "2013-01-01 1.0             1           1           1  \n",
       "           2.0             1           1           1  \n",
       "           3.0             1           1           1  \n",
       "           4.0             1           1           1  \n",
       "           6.0             1           1           1  \n",
       "...                      ...         ...         ...  \n",
       "2014-07-31 1108.0          1           1           1  \n",
       "           1110.0          1           1           1  \n",
       "           1112.0          1           1           1  \n",
       "           1113.0          1           1           1  \n",
       "           1114.0          1           1           1  \n",
       "\n",
       "[499419 rows x 15 columns]"
      ]
     },
     "execution_count": 139,
     "metadata": {},
     "output_type": "execute_result"
    }
   ],
   "source": [
    "# Just one entry per day per store? ..Yes\n",
    "train_new.groupby(['Date','Store']).count()"
   ]
  },
  {
   "cell_type": "code",
   "execution_count": 140,
   "metadata": {},
   "outputs": [
    {
     "data": {
      "text/plain": [
       "<matplotlib.axes._subplots.AxesSubplot at 0x7fe3a2172f98>"
      ]
     },
     "execution_count": 140,
     "metadata": {},
     "output_type": "execute_result"
    },
    {
     "data": {
      "image/png": "[encoded data removed]",
      "text/plain": [
       "<Figure size 720x576 with 2 Axes>"
      ]
     },
     "metadata": {},
     "output_type": "display_data"
    }
   ],
   "source": [
    "#Correlate Sales with all other variables?\n",
    "\n",
    "import matplotlib.pyplot as plt\n",
    "import seaborn as sns\n",
    "\n",
    "f, ax = plt.subplots(figsize=(10, 8))\n",
    "corr = train_new.corr()\n",
    "sns.heatmap(corr, mask=np.zeros_like(corr, dtype=np.bool), cmap=sns.diverging_palette(220, 10, as_cmap=True),\n",
    "square=True, ax=ax)\n",
    "\n",
    "#customers, open and promo are the most highly correlated"
   ]
  },
  {
   "cell_type": "code",
   "execution_count": 141,
   "metadata": {},
   "outputs": [
    {
     "data": {
      "text/plain": [
       "<matplotlib.axes._subplots.AxesSubplot at 0x7fe3a037d8d0>"
      ]
     },
     "execution_count": 141,
     "metadata": {},
     "output_type": "execute_result"
    },
    {
     "data": {
      "image/png": "[encoded data removed]",
      "text/plain": [
       "<Figure size 432x288 with 1 Axes>"
      ]
     },
     "metadata": {},
     "output_type": "display_data"
    }
   ],
   "source": [
    "#plot sales over time, one store\n",
    "sns.set()\n",
    "train=train_new.loc[train_new['Store']==377]\n",
    "train['Sales'].plot()\n",
    "\n",
    "\n",
    "#train['2013-01-01':'2014-07-31']\n",
    "\n",
    "#train_new['Date'].head()\n",
    "#plt.plot(train.loc['2013-01-01':'2014-07-31','Sales'])\n"
   ]
  },
  {
   "cell_type": "code",
   "execution_count": 102,
   "metadata": {},
   "outputs": [
    {
     "name": "stdout",
     "output_type": "stream",
     "text": [
      "2014-07-31 00:00:00\n",
      "2013-01-01 00:00:00\n"
     ]
    }
   ],
   "source": [
    "#plot sales over time, all stores?\n",
    "print(max(train['Date']))\n",
    "print(min(train['Date']))\n",
    "\n"
   ]
  },
  {
   "cell_type": "code",
   "execution_count": 173,
   "metadata": {},
   "outputs": [
    {
     "data": {
      "text/html": [
       "<div>\n",
       "<style scoped>\n",
       "    .dataframe tbody tr th:only-of-type {\n",
       "        vertical-align: middle;\n",
       "    }\n",
       "\n",
       "    .dataframe tbody tr th {\n",
       "        vertical-align: top;\n",
       "    }\n",
       "\n",
       "    .dataframe thead th {\n",
       "        text-align: right;\n",
       "    }\n",
       "</style>\n",
       "<table border=\"1\" class=\"dataframe\">\n",
       "  <thead>\n",
       "    <tr style=\"text-align: right;\">\n",
       "      <th></th>\n",
       "      <th></th>\n",
       "      <th>Sales</th>\n",
       "    </tr>\n",
       "    <tr>\n",
       "      <th>year</th>\n",
       "      <th>weekofyear</th>\n",
       "      <th></th>\n",
       "    </tr>\n",
       "  </thead>\n",
       "  <tbody>\n",
       "    <tr>\n",
       "      <td rowspan=\"4\" valign=\"top\">2014</td>\n",
       "      <td>1</td>\n",
       "      <td>16198972.0</td>\n",
       "    </tr>\n",
       "    <tr>\n",
       "      <td>31</td>\n",
       "      <td>24767627.0</td>\n",
       "    </tr>\n",
       "    <tr>\n",
       "      <td>30</td>\n",
       "      <td>24777562.0</td>\n",
       "    </tr>\n",
       "    <tr>\n",
       "      <td>17</td>\n",
       "      <td>25061721.0</td>\n",
       "    </tr>\n",
       "    <tr>\n",
       "      <td>2013</td>\n",
       "      <td>21</td>\n",
       "      <td>25449346.0</td>\n",
       "    </tr>\n",
       "    <tr>\n",
       "      <td>...</td>\n",
       "      <td>...</td>\n",
       "      <td>...</td>\n",
       "    </tr>\n",
       "    <tr>\n",
       "      <td rowspan=\"2\" valign=\"top\">2014</td>\n",
       "      <td>14</td>\n",
       "      <td>41704363.0</td>\n",
       "    </tr>\n",
       "    <tr>\n",
       "      <td>23</td>\n",
       "      <td>42499314.0</td>\n",
       "    </tr>\n",
       "    <tr>\n",
       "      <td rowspan=\"3\" valign=\"top\">2013</td>\n",
       "      <td>31</td>\n",
       "      <td>43311123.0</td>\n",
       "    </tr>\n",
       "    <tr>\n",
       "      <td>49</td>\n",
       "      <td>47127929.0</td>\n",
       "    </tr>\n",
       "    <tr>\n",
       "      <td>51</td>\n",
       "      <td>58777857.0</td>\n",
       "    </tr>\n",
       "  </tbody>\n",
       "</table>\n",
       "<p>83 rows × 1 columns</p>\n",
       "</div>"
      ],
      "text/plain": [
       "                      Sales\n",
       "year weekofyear            \n",
       "2014 1           16198972.0\n",
       "     31          24767627.0\n",
       "     30          24777562.0\n",
       "     17          25061721.0\n",
       "2013 21          25449346.0\n",
       "...                     ...\n",
       "2014 14          41704363.0\n",
       "     23          42499314.0\n",
       "2013 31          43311123.0\n",
       "     49          47127929.0\n",
       "     51          58777857.0\n",
       "\n",
       "[83 rows x 1 columns]"
      ]
     },
     "execution_count": 173,
     "metadata": {},
     "output_type": "execute_result"
    }
   ],
   "source": [
    "#aggregate sales\n",
    "sample=train_new.groupby(by=['year','weekofyear']).agg({'Sales':'sum'})\n",
    "\n",
    "#s=np.array(sample)\n",
    "#plt.plot(s)\n",
    "sample.sort_values(by='Sales')"
   ]
  },
  {
   "cell_type": "code",
   "execution_count": 131,
   "metadata": {},
   "outputs": [
    {
     "ename": "AttributeError",
     "evalue": "'NoneType' object has no attribute 'to_csv'",
     "output_type": "error",
     "traceback": [
      "\u001b[0;31m---------------------------------------------------------------------------\u001b[0m",
      "\u001b[0;31mAttributeError\u001b[0m                            Traceback (most recent call last)",
      "\u001b[0;32m<ipython-input-131-6e903ce95e19>\u001b[0m in \u001b[0;36m<module>\u001b[0;34m\u001b[0m\n\u001b[1;32m      1\u001b[0m \u001b[0mdate\u001b[0m\u001b[0;34m=\u001b[0m\u001b[0mdatetime\u001b[0m\u001b[0;34m.\u001b[0m\u001b[0mdatetime\u001b[0m\u001b[0;34m.\u001b[0m\u001b[0mnow\u001b[0m\u001b[0;34m(\u001b[0m\u001b[0;34m)\u001b[0m\u001b[0;34m.\u001b[0m\u001b[0mstrftime\u001b[0m\u001b[0;34m(\u001b[0m\u001b[0;34m'%Y-%m-%d'\u001b[0m\u001b[0;34m)\u001b[0m\u001b[0;34m\u001b[0m\u001b[0;34m\u001b[0m\u001b[0m\n\u001b[1;32m      2\u001b[0m \u001b[0mfile\u001b[0m\u001b[0;34m=\u001b[0m\u001b[0;34m'data/data'\u001b[0m\u001b[0;34m+\u001b[0m\u001b[0mdate\u001b[0m\u001b[0;34m\u001b[0m\u001b[0;34m\u001b[0m\u001b[0m\n\u001b[0;32m----> 3\u001b[0;31m \u001b[0mtrain_new\u001b[0m\u001b[0;34m.\u001b[0m\u001b[0mto_csv\u001b[0m\u001b[0;34m(\u001b[0m\u001b[0mfile\u001b[0m\u001b[0;34m)\u001b[0m\u001b[0;34m\u001b[0m\u001b[0;34m\u001b[0m\u001b[0m\n\u001b[0m",
      "\u001b[0;31mAttributeError\u001b[0m: 'NoneType' object has no attribute 'to_csv'"
     ]
    }
   ],
   "source": [
    "date=datetime.datetime.now().strftime('%Y-%m-%d')\n",
    "file='data/data'+date\n",
    "train_new.to_csv(file)"
   ]
  },
  {
   "cell_type": "code",
   "execution_count": null,
   "metadata": {},
   "outputs": [],
   "source": []
  }
 ],
 "metadata": {
  "kernelspec": {
   "display_name": "Python 3",
   "language": "python",
   "name": "python3"
  },
  "language_info": {
   "codemirror_mode": {
    "name": "ipython",
    "version": 3
   },
   "file_extension": ".py",
   "mimetype": "text/x-python",
   "name": "python",
   "nbconvert_exporter": "python",
   "pygments_lexer": "ipython3",
   "version": "3.7.3"
  }
 },
 "nbformat": 4,
 "nbformat_minor": 4
}
