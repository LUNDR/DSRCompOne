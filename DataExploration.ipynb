{
 "cells": [
  {
   "cell_type": "code",
   "execution_count": 4,
   "metadata": {},
   "outputs": [
    {
     "name": "stdout",
     "output_type": "stream",
     "text": [
      "<class 'pandas.core.frame.DataFrame'>\n",
      "Int64Index: 618473 entries, 0 to 618472\n",
      "Data columns (total 83 columns):\n",
      "Date                   618473 non-null datetime64[ns]\n",
      "Store                  618473 non-null float64\n",
      "DayOfWeek              600036 non-null float64\n",
      "Sales                  600028 non-null float64\n",
      "Customers              599957 non-null float64\n",
      "Open                   599832 non-null float64\n",
      "Promo                  599791 non-null float64\n",
      "SchoolHoliday          599686 non-null float64\n",
      "CompetitionDistance    616838 non-null float64\n",
      "year                   618473 non-null int64\n",
      "dayofyear              618473 non-null int64\n",
      "weekofyear             618473 non-null int64\n",
      "StateHoliday_0         618473 non-null uint8\n",
      "StateHoliday_a         618473 non-null uint8\n",
      "StateHoliday_b         618473 non-null uint8\n",
      "StateHoliday_c         618473 non-null uint8\n",
      "StoreType_a            618473 non-null uint8\n",
      "StoreType_b            618473 non-null uint8\n",
      "StoreType_c            618473 non-null uint8\n",
      "StoreType_d            618473 non-null uint8\n",
      "Assortment_a           618473 non-null uint8\n",
      "Assortment_b           618473 non-null uint8\n",
      "Assortment_c           618473 non-null uint8\n",
      "dayofweek_0            618473 non-null uint8\n",
      "dayofweek_1            618473 non-null uint8\n",
      "dayofweek_2            618473 non-null uint8\n",
      "dayofweek_3            618473 non-null uint8\n",
      "dayofweek_4            618473 non-null uint8\n",
      "dayofweek_5            618473 non-null uint8\n",
      "dayofweek_6            618473 non-null uint8\n",
      "dayofmonth_1           618473 non-null uint8\n",
      "dayofmonth_2           618473 non-null uint8\n",
      "dayofmonth_3           618473 non-null uint8\n",
      "dayofmonth_4           618473 non-null uint8\n",
      "dayofmonth_5           618473 non-null uint8\n",
      "dayofmonth_6           618473 non-null uint8\n",
      "dayofmonth_7           618473 non-null uint8\n",
      "dayofmonth_8           618473 non-null uint8\n",
      "dayofmonth_9           618473 non-null uint8\n",
      "dayofmonth_10          618473 non-null uint8\n",
      "dayofmonth_11          618473 non-null uint8\n",
      "dayofmonth_12          618473 non-null uint8\n",
      "dayofmonth_13          618473 non-null uint8\n",
      "dayofmonth_14          618473 non-null uint8\n",
      "dayofmonth_15          618473 non-null uint8\n",
      "dayofmonth_16          618473 non-null uint8\n",
      "dayofmonth_17          618473 non-null uint8\n",
      "dayofmonth_18          618473 non-null uint8\n",
      "dayofmonth_19          618473 non-null uint8\n",
      "dayofmonth_20          618473 non-null uint8\n",
      "dayofmonth_21          618473 non-null uint8\n",
      "dayofmonth_22          618473 non-null uint8\n",
      "dayofmonth_23          618473 non-null uint8\n",
      "dayofmonth_24          618473 non-null uint8\n",
      "dayofmonth_25          618473 non-null uint8\n",
      "dayofmonth_26          618473 non-null uint8\n",
      "dayofmonth_27          618473 non-null uint8\n",
      "dayofmonth_28          618473 non-null uint8\n",
      "dayofmonth_29          618473 non-null uint8\n",
      "dayofmonth_30          618473 non-null uint8\n",
      "dayofmonth_31          618473 non-null uint8\n",
      "quarter_1              618473 non-null uint8\n",
      "quarter_2              618473 non-null uint8\n",
      "quarter_3              618473 non-null uint8\n",
      "quarter_4              618473 non-null uint8\n",
      "month_1                618473 non-null uint8\n",
      "month_2                618473 non-null uint8\n",
      "month_3                618473 non-null uint8\n",
      "month_4                618473 non-null uint8\n",
      "month_5                618473 non-null uint8\n",
      "month_6                618473 non-null uint8\n",
      "month_7                618473 non-null uint8\n",
      "month_8                618473 non-null uint8\n",
      "month_9                618473 non-null uint8\n",
      "month_10               618473 non-null uint8\n",
      "month_11               618473 non-null uint8\n",
      "month_12               618473 non-null uint8\n",
      "dayofweek              618473 non-null int64\n",
      "quarter                618473 non-null int64\n",
      "month                  618473 non-null int64\n",
      "dayofmonth             618473 non-null int64\n",
      "av_SalesPerCustomer    618473 non-null float64\n",
      "SalesPerCustomer       482393 non-null float64\n",
      "dtypes: datetime64[ns](1), float64(10), int64(7), uint8(65)\n",
      "memory usage: 128.0 MB\n"
     ]
    }
   ],
   "source": [
    "#data exploration\n",
    "%run ./DataWrangler.ipynb\n",
    "data_new.info()"
   ]
  },
  {
   "cell_type": "code",
   "execution_count": null,
   "metadata": {},
   "outputs": [],
   "source": [
    "#Correlate Sales with all other variables?\n",
    "\n",
    "import matplotlib.pyplot as plt\n",
    "import seaborn as sns\n",
    "\n",
    "f, ax = plt.subplots(figsize=(10, 8))\n",
    "corr = expanded.corr()\n",
    "sns.heatmap(corr, mask=np.zeros_like(corr, dtype=np.bool), cmap=sns.diverging_palette(220, 10, as_cmap=True),\n",
    "square=True, ax=ax)\n",
    "\n",
    "#customers, open and promo are the most highly correlated"
   ]
  },
  {
   "cell_type": "code",
   "execution_count": null,
   "metadata": {},
   "outputs": [],
   "source": [
    "sales_corr=corr[['Sales','Customers','Open','av_SalesPerCustomer','SalesPerCustomer']].sort_values(by='SalesPerCustomer')\n",
    "sales_corr.tail(20)"
   ]
  },
  {
   "cell_type": "code",
   "execution_count": null,
   "metadata": {},
   "outputs": [],
   "source": [
    "#plot sales over time, one store\n",
    "sns.set()\n",
    "\n",
    "data=expanded.loc[expanded['Store']==1115]\n",
    "plt.plot(data['SalesPerCustomer'])\n",
    "\n",
    "#train['2013-01-01':'2014-07-31']\n",
    "\n",
    "#train_new['Date'].head()\n",
    "#plt.plot(train.loc['2013-01-01':'2014-07-31','Sales'])\n"
   ]
  },
  {
   "cell_type": "code",
   "execution_count": null,
   "metadata": {},
   "outputs": [],
   "source": [
    "print(expanded['SalesPerCustomer'].nunique())\n",
    "expanded.tail(20)\n"
   ]
  }
 ],
 "metadata": {
  "kernelspec": {
   "display_name": "Python 3",
   "language": "python",
   "name": "python3"
  },
  "language_info": {
   "codemirror_mode": {
    "name": "ipython",
    "version": 3
   },
   "file_extension": ".py",
   "mimetype": "text/x-python",
   "name": "python",
   "nbconvert_exporter": "python",
   "pygments_lexer": "ipython3",
   "version": "3.6.9"
  }
 },
 "nbformat": 4,
 "nbformat_minor": 4
}
